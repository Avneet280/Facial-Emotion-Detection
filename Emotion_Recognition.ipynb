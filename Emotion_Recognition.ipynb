{
 "cells": [
  {
   "cell_type": "code",
   "execution_count": null,
   "id": "b0f55684",
   "metadata": {},
   "outputs": [],
   "source": [
    "import pandas as pd\n",
    "#from PIL import Image\n",
    "import numpy as np\n",
    "import matplotlib.pyplot as plt\n",
    "import keras\n",
    "from sklearn.model_selection import train_test_split\n",
    "from keras.layers import Conv2D, MaxPool2D, AveragePooling2D, Input, BatchNormalization, MaxPooling2D, Activation, Flatten, Dense, Dropout\n",
    "from keras.models import Model\n",
    "from keras.utils import to_categorical\n",
    "from sklearn.metrics import classification_report\n",
    "#from imblearn.over_sampling import RandomOverSampler\n",
    "from keras.preprocessing import image\n",
    "import scipy\n",
    "import os\n",
    "import cv2"
   ]
  },
  {
   "cell_type": "code",
   "execution_count": null,
   "id": "e06888ee",
   "metadata": {},
   "outputs": [],
   "source": [
    "data = pd.read_csv('/content/drive/My Drive/icml_face_data.csv')"
   ]
  },
  {
   "cell_type": "code",
   "execution_count": null,
   "id": "9ddb3a42",
   "metadata": {},
   "outputs": [],
   "source": [
    "data.head()"
   ]
  },
  {
   "cell_type": "code",
   "execution_count": null,
   "id": "7e7315bc",
   "metadata": {},
   "outputs": [],
   "source": [
    "data"
   ]
  },
  {
   "cell_type": "code",
   "execution_count": null,
   "id": "3edeebd0",
   "metadata": {},
   "outputs": [],
   "source": [
    "pixel_data = data[' pixels']\n",
    "label_data = data['emotion']"
   ]
  },
  {
   "cell_type": "code",
   "execution_count": null,
   "id": "df380785",
   "metadata": {},
   "outputs": [],
   "source": [
    "def preprocess_pixels(pixel_data):\n",
    "  images = []\n",
    "  for i in range(len(pixel_data)):\n",
    "    img = np.fromstring(pixel_data[i], dtype='int', sep=' ')\n",
    "    img = img.reshape(48,48,1)\n",
    "    images.append(img)\n",
    "\n",
    "  X = np.array(images)\n",
    "\n",
    " \n",
    "\n",
    "  return X"
   ]
  },
  {
   "cell_type": "code",
   "execution_count": null,
   "id": "936a36ea",
   "metadata": {},
   "outputs": [],
   "source": [
    "oversampler = RandomOverSampler(sampling_strategy='auto')\n",
    "\n",
    "X_over, Y_over = oversampler.fit_resample(pixel_data.values.reshape(-1,1), label_data)"
   ]
  },
  {
   "cell_type": "code",
   "execution_count": null,
   "id": "3653b4b8",
   "metadata": {},
   "outputs": [],
   "source": [
    "X_over_series = pd.Series(X_over.flatten())\n",
    "X_over_series"
   ]
  },
  {
   "cell_type": "code",
   "execution_count": null,
   "id": "0b9a7111",
   "metadata": {},
   "outputs": [],
   "source": [
    "X = preprocess_pixels(X_over_series)\n",
    "Y = Y_over"
   ]
  },
  {
   "cell_type": "code",
   "execution_count": null,
   "id": "1646d3b9",
   "metadata": {},
   "outputs": [],
   "source": [
    "Y = Y_over.reshape(Y.shape[0],1)\n",
    "Y.shape"
   ]
  },
  {
   "cell_type": "code",
   "execution_count": null,
   "id": "9548d780",
   "metadata": {},
   "outputs": [],
   "source": [
    "X_train, X_test, Y_train, Y_test = train_test_split(X, Y, test_size = 0.1, random_state = 45)"
   ]
  },
  {
   "cell_type": "code",
   "execution_count": null,
   "id": "84627646",
   "metadata": {},
   "outputs": [],
   "source": [
    "def emotion_recognition(input_shape):\n",
    "\n",
    "  X_input = Input(input_shape)\n",
    "\n",
    "  X = Conv2D(32, kernel_size=(3,3), strides=(1,1), padding='valid')(X_input)\n",
    "  X = BatchNormalization(axis=3)(X)\n",
    "  X = Activation('relu')(X)\n",
    "\n",
    "\n",
    "  X = Conv2D(64, (3,3), strides=(1,1), padding = 'same')(X)\n",
    "  X = BatchNormalization(axis=3)(X)\n",
    "  X = Activation('relu')(X)\n",
    "\n",
    "  X = MaxPooling2D((2,2))(X)\n",
    "\n",
    "  X = Conv2D(64, (3,3), strides=(1,1), padding = 'valid')(X)\n",
    "  X = BatchNormalization(axis=3)(X)\n",
    "  X = Activation('relu')(X)\n",
    "\n",
    "  X = Conv2D(128, (3,3), strides=(1,1), padding = 'same')(X)\n",
    "  X = BatchNormalization(axis=3)(X)\n",
    "  X = Activation('relu')(X)\n",
    "\n",
    "\n",
    "  X = MaxPooling2D((2,2))(X)\n",
    "\n",
    "  X = Conv2D(128, (3,3), strides=(1,1), padding = 'valid')(X)\n",
    "  X = BatchNormalization(axis=3)(X)\n",
    "  X = Activation('relu')(X)\n",
    "\n",
    " \n",
    "\n",
    "  X = MaxPooling2D((2,2))(X)\n",
    "  X = Flatten()(X)\n",
    "  X = Dense(200, activation='relu')(X)\n",
    "  X = Dropout(0.6)(X)\n",
    "  X = Dense(7, activation = 'softmax')(X)\n",
    "\n",
    "  model = Model(inputs=X_input, outputs=X)\n",
    "\n",
    "  return model"
   ]
  },
  {
   "cell_type": "code",
   "execution_count": null,
   "id": "f742f52b",
   "metadata": {},
   "outputs": [],
   "source": [
    "model = emotion_recognition((48,48,1))"
   ]
  },
  {
   "cell_type": "code",
   "execution_count": null,
   "id": "2396ef46",
   "metadata": {},
   "outputs": [],
   "source": [
    "model.summary()"
   ]
  },
  {
   "cell_type": "code",
   "execution_count": null,
   "id": "b113107d",
   "metadata": {},
   "outputs": [],
   "source": [
    "adam = keras.optimizers.Adam(learning_rate=0.0001)\n",
    "model.compile(optimizer=adam, loss='categorical_crossentropy', metrics=['accuracy'])"
   ]
  },
  {
   "cell_type": "code",
   "execution_count": null,
   "id": "ea3f2184",
   "metadata": {},
   "outputs": [],
   "source": [
    "y_train = to_categorical(Y_train, num_classes=7)"
   ]
  },
  {
   "cell_type": "code",
   "execution_count": null,
   "id": "f8e7db6e",
   "metadata": {},
   "outputs": [],
   "source": [
    "y_train.shape"
   ]
  },
  {
   "cell_type": "code",
   "execution_count": null,
   "id": "23895300",
   "metadata": {},
   "outputs": [],
   "source": [
    "y_test = to_categorical(Y_test, num_classes=7)"
   ]
  },
  {
   "cell_type": "code",
   "execution_count": null,
   "id": "1cb3e49e",
   "metadata": {},
   "outputs": [],
   "source": [
    "model.fit(X_train, y_train, epochs = 30, validation_data=(X_test, y_test))"
   ]
  },
  {
   "cell_type": "code",
   "execution_count": null,
   "id": "649d224c",
   "metadata": {},
   "outputs": [],
   "source": [
    "model.save_weights('/content/drive/My Drive/emotion_weights_3.hdf5')"
   ]
  },
  {
   "cell_type": "code",
   "execution_count": null,
   "id": "75794ff0",
   "metadata": {},
   "outputs": [],
   "source": [
    "model.evaluate(X_test, y_test)"
   ]
  },
  {
   "cell_type": "code",
   "execution_count": null,
   "id": "e93da1ec",
   "metadata": {},
   "outputs": [],
   "source": [
    "preds = model.predict(X_train)"
   ]
  },
  {
   "cell_type": "code",
   "execution_count": null,
   "id": "39754b7b",
   "metadata": {},
   "outputs": [],
   "source": [
    "def get_class(preds):\n",
    "  pred_class = np.zeros((preds.shape[0],1))\n",
    "\n",
    "  for i in range(len(preds)):\n",
    "   pred_class[i] = np.argmax(preds[i])\n",
    "\n",
    "  return pred_class"
   ]
  },
  {
   "cell_type": "code",
   "execution_count": null,
   "id": "0c722f1b",
   "metadata": {},
   "outputs": [],
   "source": [
    "pred_class_train = get_class(preds)"
   ]
  },
  {
   "cell_type": "code",
   "execution_count": null,
   "id": "72add046",
   "metadata": {},
   "outputs": [],
   "source": [
    "train_report = classification_report(Y_train, pred_class_train)"
   ]
  },
  {
   "cell_type": "code",
   "execution_count": null,
   "id": "48c115d5",
   "metadata": {},
   "outputs": [],
   "source": [
    "print(train_report)"
   ]
  },
  {
   "cell_type": "code",
   "execution_count": null,
   "id": "356a0243",
   "metadata": {},
   "outputs": [],
   "source": [
    "test_preds = model.predict(X_test)"
   ]
  },
  {
   "cell_type": "code",
   "execution_count": null,
   "id": "8e86da60",
   "metadata": {},
   "outputs": [],
   "source": [
    "pred_test_class = get_class(test_preds)"
   ]
  },
  {
   "cell_type": "code",
   "execution_count": null,
   "id": "f3960d3a",
   "metadata": {},
   "outputs": [],
   "source": [
    "report_test = classification_report(Y_test, pred_test_class)\n",
    "print(report_test)"
   ]
  },
  {
   "cell_type": "code",
   "execution_count": null,
   "id": "b71f5b27",
   "metadata": {},
   "outputs": [],
   "source": [
    "label_dict = {0 : 'Angry', 1 : 'Disgust', 2 : 'Fear', 3 : 'Happiness', 4 : 'Sad', 5 : 'Surprise', 6 : 'Neutral'}\n",
    "label_dict"
   ]
  },
  {
   "cell_type": "code",
   "execution_count": null,
   "id": "dcee2fa0",
   "metadata": {},
   "outputs": [],
   "source": [
    "img_path = 'test1_happiness.jpeg'\n",
    "img = image.load_img(img_path, grayscale=True, target_size=(48,48))\n",
    "x = image.img_to_array(img)\n",
    "x = np.expand_dims(x, axis=0)\n",
    "x.shape"
   ]
  },
  {
   "cell_type": "code",
   "execution_count": null,
   "id": "bb8cf2db",
   "metadata": {},
   "outputs": [],
   "source": [
    "prediction = np.argmax(model.predict(x))\n",
    "print('The predicted emotion is : ' + label_dict[prediction])\n",
    "my_image = image.load_img(img_path)\n",
    "plt.imshow(my_image)"
   ]
  },
  {
   "cell_type": "code",
   "execution_count": null,
   "id": "ad9ba7e9",
   "metadata": {},
   "outputs": [],
   "source": [
    "model.load_weights('C:\\\\Users\\\\avneet\\\\Desktop\\\\Machine Learning\\\\Facial Expression\\\\emotion_weights_3.hdf5')"
   ]
  },
  {
   "cell_type": "code",
   "execution_count": null,
   "id": "0b0a6f68",
   "metadata": {},
   "outputs": [],
   "source": [
    "face_haar_cascade = cv2.CascadeClassifier('C:\\\\Users\\\\avneet\\\\Desktop\\\\Machine Learning\\\\Facial Expression\\\\archive\\\\haarcascade_frontalface_default.xml'"
   ]
  },
  {
   "cell_type": "code",
   "execution_count": null,
   "id": "0caa1af9",
   "metadata": {},
   "outputs": [],
   "source": [
    "cap = cv2.VideoCapture(0)\n",
    "\n",
    "while True:\n",
    " \n",
    " _,cap_image = cap.read()\n",
    "\n",
    "    \n",
    "    \n",
    "\n",
    " cap_img_gray = cv2.cvtColor(cap_image, cv2.COLOR_BGR2GRAY)\n",
    "\n",
    " faces = face_haar_cascade.detectMultiScale(cap_img_gray, 1.3, 5)\n",
    "\n",
    " for (x,y,w,h) in faces:\n",
    "\n",
    "   cv2.rectangle(cap_image, (x,y), (x+w,y+h),(255,0,0),2)\n",
    "   roi_gray = cap_img_gray[y:y+h, x:x+w]\n",
    "   roi_gray = cv2.resize(roi_gray, (48,48))\n",
    "   img_pixels = image.img_to_array(roi_gray)\n",
    "   img_pixels = np.expand_dims(img_pixels, axis=0)\n",
    "\n",
    "   predictions = model.predict(img_pixels)\n",
    "   emotion_label = np.argmax(predictions)\n",
    "\n",
    "   emotion_prediction = label_dict[emotion_label]\n",
    "\n",
    "   cv2.putText(cap_image, emotion_prediction, (int(x), int(y)), cv2.FONT_HERSHEY_SIMPLEX, 0.75, (0,0,0), 1 )\n",
    "\n",
    "   resize_image = cv2.resize(cap_image, (1000,700))\n",
    "   cv2.imshow('Emotion',resize_image)\n",
    "\n",
    "   if cv2.waitKey(10) == ord('b'):\n",
    "    break\n",
    "cap.release()\n",
    "cv2.destroyAllWindows "
   ]
  }
 ],
 "metadata": {
  "kernelspec": {
   "display_name": "Python 3 (ipykernel)",
   "language": "python",
   "name": "python3"
  },
  "language_info": {
   "codemirror_mode": {
    "name": "ipython",
    "version": 3
   },
   "file_extension": ".py",
   "mimetype": "text/x-python",
   "name": "python",
   "nbconvert_exporter": "python",
   "pygments_lexer": "ipython3",
   "version": "3.9.7"
  }
 },
 "nbformat": 4,
 "nbformat_minor": 5
}
